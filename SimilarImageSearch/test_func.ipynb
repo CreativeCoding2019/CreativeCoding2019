{
 "cells": [
  {
   "cell_type": "code",
   "execution_count": 2,
   "metadata": {},
   "outputs": [],
   "source": [
    "from PIL import Image, ImageFile\n",
    "import numpy as np\n",
    "import imagehash\n",
    "import os\n",
    "from glob import glob\n",
    "import re\n",
    "import pprint\n",
    "from collections import OrderedDict\n",
    "from IPython.display import display_png\n",
    "import time\n",
    "import ipywidgets as widgets\n",
    "from tkinter.filedialog import askopenfilename\n",
    "\n",
    "\n",
    "selectedInputFile = \"../scratch/splites/project1/741043/0.png\""
   ]
  },
  {
   "cell_type": "code",
   "execution_count": 3,
   "metadata": {},
   "outputs": [
    {
     "data": {
      "application/vnd.jupyter.widget-view+json": {
       "model_id": "3a142844cf964450a1d02d0ae2753358",
       "version_major": 2,
       "version_minor": 0
      },
      "text/plain": [
       "Button(description='Click me', style=ButtonStyle())"
      ]
     },
     "metadata": {},
     "output_type": "display_data"
    },
    {
     "name": "stdout",
     "output_type": "stream",
     "text": [
      "OnSelectButtonClicked run\n"
     ]
    }
   ],
   "source": [
    "def SetSelectButtonWdg():\n",
    "    selectButtonWdg = widgets.Button(\n",
    "        description = 'Click me'\n",
    "    )\n",
    "    selectButtonWdg.on_click(OnSelectButtonClicked)\n",
    "    \n",
    "    return selectButtonWdg\n",
    "    \n",
    "    \n",
    "def OnSelectButtonClicked(b):\n",
    "    print(\"OnSelectButtonClicked run\")\n",
    "    \n",
    "SetSelectButtonWdg()"
   ]
  },
  {
   "cell_type": "code",
   "execution_count": 5,
   "metadata": {},
   "outputs": [
    {
     "data": {
      "application/vnd.jupyter.widget-view+json": {
       "model_id": "8cd8c02bf0d541b884e04a3ee7f12a20",
       "version_major": 2,
       "version_minor": 0
      },
      "text/plain": [
       "Image(value=b'\\x89PNG\\r\\n\\x1a\\n\\x00\\x00\\x00\\rIHDR\\x00\\x00\\x01\\xe0\\x00\\x00\\x01h\\x08\\x06\\x00\\x00\\x00\\x8f7( \\x00\\…"
      ]
     },
     "metadata": {},
     "output_type": "display_data"
    }
   ],
   "source": [
    "def SetInputImgWdg(_selectedInputFile):\n",
    "    inputImageWdg = widgets.Image(\n",
    "        value = open(_selectedInputFile, \"rb\").read(),\n",
    "        format = 'png'\n",
    "    )\n",
    "    return inputImageWdg\n",
    "\n",
    "SetInputImgWdg(selectedInputFile)"
   ]
  }
 ],
 "metadata": {
  "hide_input": false,
  "kernelspec": {
   "display_name": "Python 3",
   "language": "python",
   "name": "python3"
  },
  "language_info": {
   "codemirror_mode": {
    "name": "ipython",
    "version": 3
   },
   "file_extension": ".py",
   "mimetype": "text/x-python",
   "name": "python",
   "nbconvert_exporter": "python",
   "pygments_lexer": "ipython3",
   "version": "3.7.1"
  }
 },
 "nbformat": 4,
 "nbformat_minor": 2
}
