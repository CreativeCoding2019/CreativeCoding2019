{
 "cells": [
  {
   "cell_type": "code",
   "execution_count": 10,
   "metadata": {},
   "outputs": [],
   "source": [
    "from PIL import Image, ImageFile\n",
    "import numpy as np\n",
    "import imagehash\n",
    "import os\n",
    "from glob import glob\n",
    "import re\n",
    "import pprint\n",
    "from collections import OrderedDict\n",
    "from IPython.display import display_png\n",
    "import time\n",
    "import ipywidgets as widgets\n",
    "from tkinter.filedialog import askopenfilename\n",
    "\n",
    "selectedInputFile = \"../scratch/splites/project1/741043/0.png\""
   ]
  },
  {
   "cell_type": "code",
   "execution_count": 16,
   "metadata": {},
   "outputs": [
    {
     "ename": "SyntaxError",
     "evalue": "invalid character in identifier (<ipython-input-16-428da0f7002c>, line 4)",
     "output_type": "error",
     "traceback": [
      "\u001b[0;36m  File \u001b[0;32m\"<ipython-input-16-428da0f7002c>\"\u001b[0;36m, line \u001b[0;32m4\u001b[0m\n\u001b[0;31m    selectedInputFile　=  \"../scratch/splites/project1/741043/1.png\"\u001b[0m\n\u001b[0m                     ^\u001b[0m\n\u001b[0;31mSyntaxError\u001b[0m\u001b[0;31m:\u001b[0m invalid character in identifier\n"
     ]
    }
   ],
   "source": [
    "def OnSelectButtonClicked(b):\n",
    "#     print(selectedInputFile)\n",
    "    global selectedInputFile\n",
    "    selectedInputFile = \"../scratch/splites/project1/741043/1.png\"\n",
    "    print(selectedInputFile)\n",
    "\n",
    "selectButtonWdg = widgets.Button(\n",
    "    description = 'Click me'\n",
    ")\n",
    "selectButtonWdg.on_click(OnSelectButtonClicked)\n",
    "\n",
    "selectButtonWdg"
   ]
  },
  {
   "cell_type": "code",
   "execution_count": 14,
   "metadata": {},
   "outputs": [
    {
     "name": "stdout",
     "output_type": "stream",
     "text": [
      "../scratch/splites/project1/741043/0.png\n"
     ]
    },
    {
     "data": {
      "application/vnd.jupyter.widget-view+json": {
       "model_id": "5d6b036930af47edbad92ddaefcecbda",
       "version_major": 2,
       "version_minor": 0
      },
      "text/plain": [
       "Image(value=b'\\x89PNG\\r\\n\\x1a\\n\\x00\\x00\\x00\\rIHDR\\x00\\x00\\x01\\xe0\\x00\\x00\\x01h\\x08\\x06\\x00\\x00\\x00\\x8f7( \\x00\\…"
      ]
     },
     "metadata": {},
     "output_type": "display_data"
    }
   ],
   "source": [
    "print(selectedInputFile)\n",
    "\n",
    "inputImageWdg = widgets.Image(\n",
    "    value = open(selectedInputFile, \"rb\").read(),\n",
    "    format = 'png'\n",
    ")\n",
    "inputImageWdg"
   ]
  }
 ],
 "metadata": {
  "hide_input": false,
  "kernelspec": {
   "display_name": "Python 3",
   "language": "python",
   "name": "python3"
  },
  "language_info": {
   "codemirror_mode": {
    "name": "ipython",
    "version": 3
   },
   "file_extension": ".py",
   "mimetype": "text/x-python",
   "name": "python",
   "nbconvert_exporter": "python",
   "pygments_lexer": "ipython3",
   "version": "3.7.1"
  }
 },
 "nbformat": 4,
 "nbformat_minor": 2
}
