{
 "cells": [
  {
   "cell_type": "code",
   "execution_count": 249,
   "metadata": {
    "scrolled": false
   },
   "outputs": [
    {
     "name": "stdout",
     "output_type": "stream",
     "text": [
      "Current Dir: /mnt/c/Users/moritasemi/WorkSpace/CreativeCoding/SimilarImageSearch\n",
      "Inpute Image: ../scratch/splites/project1/3238181/6.png\n",
      "Hash Value of Input Image >>> [9529be993c860bce]\n",
      "\n",
      "Project Path: ../scratch/splites/project1/\n",
      "Project ID: 3238181\n",
      "\n",
      "['../scratch/splites/project1/1000526/1.png',\n",
      " '../scratch/splites/project1/1000526/2.png',\n",
      " '../scratch/splites/project1/1000960/0.png']\n",
      "178864\n",
      "[('../scratch/splites/project1/3286277/12.png', 6),\n",
      " ('../scratch/splites/project1/3294504/6.png', 6),\n",
      " ('../scratch/splites/project1/1895456/133.png', 14)]\n"
     ]
    },
    {
     "data": {
      "image/png": "[encoded data removed]"
     },
     "metadata": {},
     "output_type": "display_data"
    },
    {
     "data": {
      "image/png": "[encoded data removed]"
     },
     "metadata": {},
     "output_type": "display_data"
    },
    {
     "data": {
      "image/png": "[encoded data removed]"
     },
     "metadata": {},
     "output_type": "display_data"
    },
    {
     "data": {
      "image/png": "[encoded data removed]"
     },
     "metadata": {},
     "output_type": "display_data"
    },
    {
     "data": {
      "image/png": "[encoded data removed]"
     },
     "metadata": {},
     "output_type": "display_data"
    },
    {
     "name": "stdout",
     "output_type": "stream",
     "text": [
      "e_time:244.37355971336365[s]\n"
     ]
    }
   ],
   "source": [
    "# 2019.01.15\n",
    "# Python v3.7.2 (Jupyter Notebook)\n",
    "#\n",
    "# 1. Input画像ファイル読み込み (パスをプログラムにべた書き) \n",
    "# 2. Input画像のハッシュ値算出\n",
    "# 3. 他のプロジェクトIDのフォルダに入っている画像ファイルまとめて読み込み\n",
    "# 4. 他の画像ファイルのハッシュ値算出\n",
    "# 5. Input画像のハッシュ値と他の画像のハッシュ値の差分のリスト作成\n",
    "# 6. 差分のリストを降順でソート\n",
    "# 7. 上位5位(任意)をコンソールに表示\n",
    "#\n",
    "# TODO:\n",
    "# - jpg対応?\n",
    "# - 高速化、精度向上\n",
    "#     - 別のハッシュ値算出アルゴリズム試してみる?\n",
    "#     - ファイル探索処理工夫できないか確認\n",
    "#     - サイズの影響が強いかどうか調べる\n",
    "# - まったく同じ画像を除外などする工夫\n",
    "# - GUI化\n",
    "# - Input画像とOutput画像のサイズとかの情報取得する\n",
    "\n",
    "from PIL import Image, ImageFile\n",
    "import numpy as np\n",
    "import imagehash\n",
    "import os\n",
    "from glob import glob\n",
    "import re\n",
    "import pprint\n",
    "from collections import OrderedDict\n",
    "from IPython.display import display_png\n",
    "import time\n",
    "\n",
    "start = time.time()\n",
    "\n",
    "# ---------------------------------\n",
    "# Configrations and grobal variables\n",
    "# ---------------------------------\n",
    "# 表示する類似画像の個数\n",
    "showImgNum = 5\n",
    "# サイズの大きな画像をスキップしない\n",
    "ImageFile.LOAD_TRUNCATED_IMAGES = True\n",
    "\n",
    "\n",
    "# ---------------------------------\n",
    "# Load an input image from  and Calculate the hash value\n",
    "# ---------------------------------\n",
    "# inputImg = \"../scratch/splites/project1/262284/9.png\"\n",
    "inputImg = \"../scratch/splites/project1/3238181/6.png\"\n",
    "inputHash = imagehash.phash(Image.open(inputImg))\n",
    "print(\"Current Directory : \" + os.getcwd())\n",
    "print(\"Inpute Image : \" + inputImg + \"\\nHash Value of Input Image >>> [\" + str(inputHash) + \"]\\n\")\n",
    "display_png(Image.open(inputImg))\n",
    "\n",
    "# ---------------------------------\n",
    "# Calculate hash values of other images and difference values\n",
    "# ---------------------------------\n",
    "# input画像のパスから、input画像が所属するProjectIDの文字列、他のProjectIDフォルダが所属するプロジェクトフォルダのパスを取得\n",
    "# 正規表現メモ: 任意の1桁以上の数値\\d{1,}\n",
    "path_inputPrjID = re.sub(\"\\d{1,}.png\", \"\", inputImg).strip(\"/\") # \"../scratch/splites/project1/262284\n",
    "# 正規表現メモ: 任意の英数字以外[\\W]や英数字[\\w]の0回以上の繰り返し*と記号/にマッチする部分を取り除く\n",
    "prjID = re.sub(\"[\\W\\w]*/\", \"\", path_inputPrjID) # \"262284\"\n",
    "path_prj = path_inputPrjID.strip(prjID) # \"../scratch/splites/project1/\" 便宜上最後に\"/\"入れたままなので注意\n",
    "print(\"Project Path : \" + path_prj + \"\\nProject ID : \" + prjID + \"\\n\")\n",
    "\n",
    "# すべての画像のパス取得\n",
    "pathList = glob(path_prj + \"*/*.png\") # 1つめの*はProjectIDをワイルドカードで指定(プロジェクトIDのフォルダごとに回すよりよさそう)\n",
    "# input画像が所属するProjectIDはハッシュ値算出から取り除く\n",
    "pathList = [path for path in pathList if prjID not in path] # 内包表記 [繰り返しindex for 繰り返しindex in 検索元]と[if 特定の文字列 in 検索元]\n",
    "print(\"Searched Images (\" + str(len(pathList)) + \"files) are ...\")\n",
    "pprint.pprint(pathList[0:3]) # 0から(4-1)番目までを取得\n",
    "\n",
    "# input画像以外のすべての画像のハッシュ値を算出\n",
    "hashList = [imagehash.phash(Image.open(img)) for img in pathList]\n",
    "# difに2つの画像のハッシュ値の差分を入れる\n",
    "difList = [abs(inputHash - hashVal) for hashVal in hashList] # intのlistで帰る\n",
    "# print(hashList[0])\n",
    "# print(difList)\n",
    "# print(len(difList))\n",
    "\n",
    "\n",
    "# ---------------------------------\n",
    "# Create dictionary from other image paths list and difference values list\n",
    "# ---------------------------------\n",
    "# Keyがpath、Valueがdifで順序を保った辞書を作る\n",
    "dic = OrderedDict((pathList[i], difList[i]) for i in range(len(pathList)))\n",
    "# print(k, v) for k, v in dic.items() # 辞書型の確認はこの方法のみ\n",
    "\n",
    "# Value(difList(ハッシュ値差分)の値)で降順でソート\n",
    "# lambdaは無名関数の定義で用いる決まり文句. \"x[1]を返す無名の関数をkeyパラメータに入れる\"的な意味らしい\n",
    "# https://qiita.com/n10432/items/e0315979286ea9121d57\n",
    "sortedDic = sorted(dic.items(), key = lambda x:x[1]) # tupleのlistで帰ってくる\n",
    "print(\"Similar images are ...\")\n",
    "pprint.pprint(sortedDic[0:3])\n",
    "\n",
    "\n",
    "# ---------------------------------\n",
    "# Show similar images\n",
    "# ---------------------------------\n",
    "print(\"Output : \")\n",
    "# key(パス)、0列目を取りだすのでsortedDic[i][0]の[0]\n",
    "[display_png(Image.open(sortedDic[i][0])) for i in range(showImgNum)]\n",
    "\n",
    "\n",
    "e_time = time.time() - start\n",
    "print (\"e_time:{0}\".format(e_time) + \"[s]\")\n"
   ]
  },
  {
   "cell_type": "code",
   "execution_count": null,
   "metadata": {},
   "outputs": [],
   "source": []
  }
 ],
 "metadata": {
  "kernelspec": {
   "display_name": "Python 3",
   "language": "python",
   "name": "python3"
  },
  "language_info": {
   "codemirror_mode": {
    "name": "ipython",
    "version": 3
   },
   "file_extension": ".py",
   "mimetype": "text/x-python",
   "name": "python",
   "nbconvert_exporter": "python",
   "pygments_lexer": "ipython3",
   "version": "3.7.2"
  }
 },
 "nbformat": 4,
 "nbformat_minor": 2
}
