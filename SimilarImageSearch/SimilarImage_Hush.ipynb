{
 "cells": [
  {
   "cell_type": "code",
   "execution_count": null,
   "metadata": {},
   "outputs": [],
   "source": [
    "from PIL import Image,ImageFile\n",
    "import numpy as np\n",
    "import imagehash,os\n",
    "from glob import glob\n",
    "\n",
    "#サイズの大きな画像をスキップしない\n",
    "ImageFile.LOAD_TRUNCATED_IMAGES = True\n",
    "\n",
    "#2つの画像のハッシュ値の差分を出力\n",
    "def d_hash(img,otherimg):\n",
    "    hash = imagehash.phash(Image.open(img))\n",
    "    other_hash = imagehash.phash(Image.open(otherimg))\n",
    "    print(hash)\n",
    "    print(other_hash)\n",
    "    return hash-other_hash\n",
    "\n",
    "#file open\n",
    "img1 = 'C:¥¥test¥¥image¥¥19.png'\n",
    "img2 = 'C:¥¥test¥¥image¥¥18.png'\n",
    "\n",
    "dif = d_hash(img1,img2)\n",
    "print(dif)\n",
    "\n",
    "#hash = imagehash.phash(img)\n",
    "#hash2 = imagehash.phash(img2)\n",
    "\n",
    "display(img)\n",
    "display(img2)\n"
   ]
  }
 ],
 "metadata": {
  "kernelspec": {
   "display_name": "Python 3",
   "language": "python",
   "name": "python3"
  },
  "language_info": {
   "codemirror_mode": {
    "name": "ipython",
    "version": 3
   },
   "file_extension": ".py",
   "mimetype": "text/x-python",
   "name": "python",
   "nbconvert_exporter": "python",
   "pygments_lexer": "ipython3",
   "version": "3.6.8"
  }
 },
 "nbformat": 4,
 "nbformat_minor": 2
}
