{
 "cells": [
  {
   "cell_type": "code",
   "execution_count": 1,
   "metadata": {
    "extensions": {
     "jupyter_dashboards": {
      "version": 1,
      "views": {
       "grid_default": {},
       "report_default": {}
      }
     }
    },
    "hideCode": false
   },
   "outputs": [
    {
     "name": "stdout",
     "output_type": "stream",
     "text": [
      "aaa\n"
     ]
    }
   ],
   "source": [
    "# 2019.01.15\n",
    "# Python v3.7.2 (Jupyter Notebook)\n",
    "#\n",
    "# 1. Input画像ファイル読み込み (パスをプログラムにべた書き) \n",
    "# 2. Input画像のハッシュ値算出\n",
    "# 3. 他のプロジェクトIDのフォルダに入っている画像ファイルまとめて読み込み\n",
    "# 4. 他の画像ファイルのハッシュ値算出\n",
    "# 5. Input画像のハッシュ値と他の画像のハッシュ値の差分のリスト作成\n",
    "# 6. 差分のリストを降順でソート\n",
    "# 7. 上位5位(任意)をコンソールに表示\n",
    "#\n",
    "# TODO:\n",
    "# - jpg対応?\n",
    "# - 高速化、精度向上\n",
    "#     - 別のハッシュ値算出アルゴリズム試してみる?\n",
    "#     - ファイル探索処理工夫できないか確認\n",
    "#     - サイズの影響が強いかどうか調べる\n",
    "# - まったく同じ画像を除外などする工夫\n",
    "# - GUI化\n",
    "# - Input画像とOutput画像のサイズとかの情報取得する\n",
    "# - Top5だけじゃなくてずらっと出せるように\n",
    "# - Hash値は保存しておく\n",
    "print(\"aaa\")\n",
    "\n",
    "from PIL import Image, ImageFile\n",
    "import numpy as np\n",
    "import imagehash\n",
    "import os\n",
    "from glob import glob\n",
    "import re\n",
    "import pprint\n",
    "from collections import OrderedDict\n",
    "from IPython.display import display_png\n",
    "import time\n",
    "import ipywidgets as widgets\n",
    "from tkinter.filedialog import askopenfilename\n",
    "# import Tkinter as tk\n",
    "# from PIL import Image, ImageTk"
   ]
  },
  {
   "cell_type": "code",
   "execution_count": 9,
   "metadata": {
    "extensions": {
     "jupyter_dashboards": {
      "version": 1,
      "views": {
       "grid_default": {},
       "report_default": {}
      }
     }
    }
   },
   "outputs": [],
   "source": [
    "# ---------------------------------\n",
    "# Configrations and grobal variables\n",
    "# ---------------------------------\n",
    "# 表示する類似画像の個数\n",
    "showImgNum = 5\n",
    "# サイズの大きな画像をスキップしない\n",
    "ImageFile.LOAD_TRUNCATED_IMAGES = True\n",
    "selectedInputFile = \"../scratch/splites/project1/741043/0.png\"\n",
    "\n",
    "\n",
    "\n",
    "\n",
    "def SetSelectButtonWdg():\n",
    "    selectButtonWdg = widgets.Button(\n",
    "        description = 'Click me',\n",
    "        disabled = False,\n",
    "        button_style = '', # 'success', 'info', 'warning', 'danger' or ''\n",
    "        tooltip = 'Click me',\n",
    "        icon = 'check'\n",
    "    )\n",
    "    # selectedInputImageWdg = \n",
    "    selectButtonWdg.on_click(OnSelectButtonClicked)\n",
    "    \n",
    "#     # Display\n",
    "#     display(selectButtonWdg)\n",
    "    \n",
    "    return selectButtonWdg\n",
    "    \n",
    "    \n",
    "\n",
    "def SetInputImgWdg(_selectedInputFile):\n",
    "    inputImageWdg = widgets.Image(\n",
    "        value = open(_selectedInputFile, \"rb\").read(),\n",
    "        format = 'png'\n",
    "    )\n",
    "    return inputImageWdg\n",
    "\n",
    "\n",
    "def OnSelectButtonClicked(b):\n",
    "    fileType = [(\"inputImage\", \".png\")]\n",
    "    initDir = \"../scratch/splites/project1\"\n",
    "    selectedPath = askopenfilename(filetypes = fileType, initialdir = initDir)\n",
    "#     print(\"Selected: \" + str(selectedPath))\n",
    "\n",
    "    selectedInputFile = \"../\" + re.sub(os.getcwd().strip(\"SimilarImageSearch\"), \"\", selectedPath)\n",
    "    print(\"Selected : \" + selectedInputFile)\n",
    "    \n",
    "#     display(SetInputImgWdg(selectedInputFile))\n",
    "    SetPath(selectedInputFile)\n",
    "\n",
    "    \n",
    "    \n",
    "\n",
    "\n",
    "\n",
    "\n",
    "# ---------------------------------\n",
    "# \n",
    "# ---------------------------------\n",
    "def SetPath(_selectedInputFile):\n",
    "\n",
    "    # Load an input image from  and Calculate the hash value\n",
    "    # ---------------------------------\n",
    "    # inputImg = \"../scratch/splites/project1/3238181/6.png\"\n",
    "    inputImg = str(_selectedInputFile)\n",
    "    inputHash = imagehash.phash(Image.open(inputImg))\n",
    "#     print(\"Current Directory : \" + os.getcwd())\n",
    "#     print(\"Input Image : \" + inputImg + \"\\nHash Value of Input Image >>> [\" + str(inputHash) + \"]\\n\")\n",
    "#     display_png(Image.open(inputImg))\n",
    "    \n",
    "    # Calculate hash values of other images and difference values\n",
    "    # ---------------------------------\n",
    "    # input画像のパスから、input画像が所属するProjectIDの文字列、他のProjectIDフォルダが所属するプロジェクトフォルダのパスを取得\n",
    "    # 正規表現メモ: 任意の1桁以上の数値\\d{1,}\n",
    "    path_inputPrjID = re.sub(\"\\d{1,}.png\", \"\", inputImg).strip(\"/\") # \"../scratch/splites/project1/262284\n",
    "    # 正規表現メモ: 任意の英数字以外[\\W]や英数字[\\w]の0回以上の繰り返し*と記号/にマッチする部分を取り除く\n",
    "    prjID = re.sub(\"[\\W\\w]*/\", \"\", path_inputPrjID) # \"262284\"\n",
    "    path_prj = path_inputPrjID.strip(prjID) # \"../scratch/splites/project1/\" 便宜上最後に\"/\"入れたままなので注意\n",
    "    print(\"Project Path : \" + path_prj + \"\\nProject ID : \" + prjID + \"\\n\")\n",
    "\n",
    "    # すべての画像のパス取得\n",
    "    pathList = glob(path_prj + \"*/*.png\") # 1つめの*はProjectIDをワイルドカードで指定(プロジェクトIDのフォルダごとに回すよりよさそう)\n",
    "    # input画像が所属するProjectIDはハッシュ値算出から取り除く\n",
    "    pathList = [path for path in pathList if prjID not in path] # 内包表記 [繰り返しindex for 繰り返しindex in 検索元]と[if 特定の文字列 in 検索元]\n",
    "    print(\"Searched Images (\" + str(len(pathList)) + \"　files) are ...\")\n",
    "    pprint.pprint(pathList[0:3]) # 0から(4-1)番目までを取得\n",
    "    \n",
    "    CalcHashDif(inputHash, pathList)\n",
    "\n",
    "\n",
    "def CalcHashDif(_inputHash, _pathList):\n",
    "    # input画像以外のすべての画像のハッシュ値を算出\n",
    "    hashList = [imagehash.phash(Image.open(img)) for img in _pathList]\n",
    "    # difに2つの画像のハッシュ値の差分を入れる\n",
    "    difList = [abs(_inputHash - h) for h in hashList] # intのlistで帰る\n",
    "    # print(hashList[0])\n",
    "    # print(difList)\n",
    "    # print(len(difList))\n",
    "\n",
    "    # Create dictionary from other image paths list and difference values list\n",
    "    # Keyがpath、Valueがdifで順序を保った辞書を作る\n",
    "    dic = OrderedDict((_pathList[i], difList[i]) for i in range(len(_pathList)))\n",
    "    # print(k, v) for k, v in dic.items() # 辞書型の確認はこの方法のみ\n",
    "    \n",
    "    ShowTopSimilarImages(dic)\n",
    "    \n",
    "\n",
    "# ---------------------------------\n",
    "# Show similar images\n",
    "# ---------------------------------\n",
    "def ShowTopSimilarImages(_dic):\n",
    "    # Value(difList(ハッシュ値差分)の値)で降順でソート\n",
    "    # lambdaは無名関数の定義で用いる決まり文句. \"x[1]を返す無名の関数をkeyパラメータに入れる\"的な意味らしい\n",
    "    # https://qiita.com/n10432/items/e0315979286ea9121d57\n",
    "    sortedDic = sorted(_dic.items(), key = lambda x:x[1]) # tupleのlistで帰ってくる\n",
    "    print(\"Similar images are ...\")\n",
    "    pprint.pprint(sortedDic[0:3])\n",
    "    \n",
    "    print(\"Output : \")\n",
    "    # key(パス)、0列目を取りだすのでsortedDic[i][0]の[0]\n",
    "    [display_png(Image.open(sortedDic[i][0])) for i in range(showImgNum)]\n",
    "\n",
    "    \n",
    "    \n",
    "    \n",
    "\n",
    "    \n",
    "def mainLoop():\n",
    "    display(SetSelectButtonWdg())\n",
    "    \n",
    "    \n",
    "\n",
    "    \n",
    "# mainLoop()"
   ]
  },
  {
   "cell_type": "code",
   "execution_count": 11,
   "metadata": {
    "extensions": {
     "jupyter_dashboards": {
      "version": 1,
      "views": {
       "grid_default": {},
       "report_default": {}
      }
     }
    }
   },
   "outputs": [
    {
     "data": {
      "application/vnd.jupyter.widget-view+json": {
       "model_id": "0a1d3ffef38547f8b94e85ce1869de48",
       "version_major": 2,
       "version_minor": 0
      },
      "text/plain": [
       "Button(description='Click me', icon='check', style=ButtonStyle(), tooltip='Click me')"
      ]
     },
     "metadata": {},
     "output_type": "display_data"
    },
    {
     "name": "stdout",
     "output_type": "stream",
     "text": [
      "Selected : ../scratch/splites/project1/26228495/6.png\n",
      "Project Path : ../scratch/splites/project1/\n",
      "Project ID : 26228495\n",
      "\n",
      "Searched Images (21　files) are ...\n",
      "['../scratch/splites/project1/1047729/0.png',\n",
      " '../scratch/splites/project1/1047729/4.png',\n",
      " '../scratch/splites/project1/1047729/5.png']\n",
      "Similar images are ...\n",
      "[('../scratch/splites/project1/1047729/7.png', 20),\n",
      " ('../scratch/splites/project1/1173880/2.png', 26),\n",
      " ('../scratch/splites/project1/1173880/7.png', 26)]\n",
      "Output : \n"
     ]
    },
    {
     "data": {
      "image/png": "[encoded data removed]"
     },
     "metadata": {},
     "output_type": "display_data"
    },
    {
     "data": {
      "image/png": "[encoded data removed]"
     },
     "metadata": {},
     "output_type": "display_data"
    },
    {
     "data": {
      "image/png": "[encoded data removed]"
     },
     "metadata": {},
     "output_type": "display_data"
    },
    {
     "data": {
      "image/png": "[encoded data removed]"
     },
     "metadata": {},
     "output_type": "display_data"
    },
    {
     "data": {
      "image/png": "[encoded data removed]"
     },
     "metadata": {},
     "output_type": "display_data"
    }
   ],
   "source": [
    "display(SetSelectButtonWdg())"
   ]
  },
  {
   "cell_type": "code",
   "execution_count": 12,
   "metadata": {
    "extensions": {
     "jupyter_dashboards": {
      "version": 1,
      "views": {
       "grid_default": {},
       "report_default": {}
      }
     }
    }
   },
   "outputs": [
    {
     "data": {
      "application/vnd.jupyter.widget-view+json": {
       "model_id": "f2b04be46db1447ebfebf11b45c089e6",
       "version_major": 2,
       "version_minor": 0
      },
      "text/plain": [
       "Image(value=b'\\x89PNG\\r\\n\\x1a\\n\\x00\\x00\\x00\\rIHDR\\x00\\x00\\x01\\xe0\\x00\\x00\\x01h\\x08\\x06\\x00\\x00\\x00\\x8f7( \\x00\\…"
      ]
     },
     "metadata": {},
     "output_type": "display_data"
    }
   ],
   "source": [
    "display(SetInputImgWdg(selectedInputFile))"
   ]
  }
 ],
 "metadata": {
  "celltoolbar": "Hide code",
  "extensions": {
   "jupyter_dashboards": {
    "activeView": "grid_default",
    "version": 1,
    "views": {
     "grid_default": {
      "cellMargin": 10,
      "defaultCellHeight": 20,
      "maxColumns": 12,
      "name": "grid",
      "type": "grid"
     },
     "report_default": {
      "name": "report",
      "type": "report"
     }
    }
   }
  },
  "hide_input": false,
  "kernelspec": {
   "display_name": "Python 3",
   "language": "python",
   "name": "python3"
  },
  "language_info": {
   "codemirror_mode": {
    "name": "ipython",
    "version": 3
   },
   "file_extension": ".py",
   "mimetype": "text/x-python",
   "name": "python",
   "nbconvert_exporter": "python",
   "pygments_lexer": "ipython3",
   "version": "3.7.1"
  }
 },
 "nbformat": 4,
 "nbformat_minor": 2
}
